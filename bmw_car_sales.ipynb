{
 "cells": [
  {
   "metadata": {},
   "cell_type": "markdown",
   "source": "# BMW Car Sales Classification with different models",
   "id": "67da035f65b63cda"
  },
  {
   "cell_type": "code",
   "id": "initial_id",
   "metadata": {
    "collapsed": true,
    "ExecuteTime": {
     "end_time": "2025-08-15T02:29:50.575072Z",
     "start_time": "2025-08-15T02:29:50.224968Z"
    }
   },
   "source": "import pandas as pd",
   "outputs": [],
   "execution_count": 1
  },
  {
   "metadata": {
    "ExecuteTime": {
     "end_time": "2025-08-15T03:17:08.284457Z",
     "start_time": "2025-08-15T03:17:08.169958Z"
    }
   },
   "cell_type": "code",
   "source": [
    "data = pd.read_csv('data/BMW_Car_Sales_Classification.csv')\n",
    "data"
   ],
   "id": "5072302fbc16a31d",
   "outputs": [
    {
     "data": {
      "text/plain": [
       "          Model  Year         Region   Color Fuel_Type Transmission  \\\n",
       "0      5 Series  2016           Asia     Red    Petrol       Manual   \n",
       "1            i8  2013  North America     Red    Hybrid    Automatic   \n",
       "2      5 Series  2022  North America    Blue    Petrol    Automatic   \n",
       "3            X3  2024    Middle East    Blue    Petrol    Automatic   \n",
       "4      7 Series  2020  South America   Black    Diesel       Manual   \n",
       "...         ...   ...            ...     ...       ...          ...   \n",
       "49995        i3  2014           Asia     Red    Hybrid       Manual   \n",
       "49996        i3  2023    Middle East  Silver  Electric       Manual   \n",
       "49997  5 Series  2010    Middle East     Red    Petrol    Automatic   \n",
       "49998        i3  2020           Asia   White  Electric    Automatic   \n",
       "49999        X1  2020  North America    Blue    Diesel       Manual   \n",
       "\n",
       "       Engine_Size_L  Mileage_KM  Price_USD  Sales_Volume Sales_Classification  \n",
       "0                3.5      151748      98740          8300                 High  \n",
       "1                1.6      121671      79219          3428                  Low  \n",
       "2                4.5       10991     113265          6994                  Low  \n",
       "3                1.7       27255      60971          4047                  Low  \n",
       "4                2.1      122131      49898          3080                  Low  \n",
       "...              ...         ...        ...           ...                  ...  \n",
       "49995            4.6      151030      42932          8182                 High  \n",
       "49996            4.2      147396      48714          9816                 High  \n",
       "49997            4.5      174939      46126          8280                 High  \n",
       "49998            3.8        3379      58566          9486                 High  \n",
       "49999            3.3      171003      77492          1764                  Low  \n",
       "\n",
       "[50000 rows x 11 columns]"
      ],
      "text/html": [
       "<div>\n",
       "<style scoped>\n",
       "    .dataframe tbody tr th:only-of-type {\n",
       "        vertical-align: middle;\n",
       "    }\n",
       "\n",
       "    .dataframe tbody tr th {\n",
       "        vertical-align: top;\n",
       "    }\n",
       "\n",
       "    .dataframe thead th {\n",
       "        text-align: right;\n",
       "    }\n",
       "</style>\n",
       "<table border=\"1\" class=\"dataframe\">\n",
       "  <thead>\n",
       "    <tr style=\"text-align: right;\">\n",
       "      <th></th>\n",
       "      <th>Model</th>\n",
       "      <th>Year</th>\n",
       "      <th>Region</th>\n",
       "      <th>Color</th>\n",
       "      <th>Fuel_Type</th>\n",
       "      <th>Transmission</th>\n",
       "      <th>Engine_Size_L</th>\n",
       "      <th>Mileage_KM</th>\n",
       "      <th>Price_USD</th>\n",
       "      <th>Sales_Volume</th>\n",
       "      <th>Sales_Classification</th>\n",
       "    </tr>\n",
       "  </thead>\n",
       "  <tbody>\n",
       "    <tr>\n",
       "      <th>0</th>\n",
       "      <td>5 Series</td>\n",
       "      <td>2016</td>\n",
       "      <td>Asia</td>\n",
       "      <td>Red</td>\n",
       "      <td>Petrol</td>\n",
       "      <td>Manual</td>\n",
       "      <td>3.5</td>\n",
       "      <td>151748</td>\n",
       "      <td>98740</td>\n",
       "      <td>8300</td>\n",
       "      <td>High</td>\n",
       "    </tr>\n",
       "    <tr>\n",
       "      <th>1</th>\n",
       "      <td>i8</td>\n",
       "      <td>2013</td>\n",
       "      <td>North America</td>\n",
       "      <td>Red</td>\n",
       "      <td>Hybrid</td>\n",
       "      <td>Automatic</td>\n",
       "      <td>1.6</td>\n",
       "      <td>121671</td>\n",
       "      <td>79219</td>\n",
       "      <td>3428</td>\n",
       "      <td>Low</td>\n",
       "    </tr>\n",
       "    <tr>\n",
       "      <th>2</th>\n",
       "      <td>5 Series</td>\n",
       "      <td>2022</td>\n",
       "      <td>North America</td>\n",
       "      <td>Blue</td>\n",
       "      <td>Petrol</td>\n",
       "      <td>Automatic</td>\n",
       "      <td>4.5</td>\n",
       "      <td>10991</td>\n",
       "      <td>113265</td>\n",
       "      <td>6994</td>\n",
       "      <td>Low</td>\n",
       "    </tr>\n",
       "    <tr>\n",
       "      <th>3</th>\n",
       "      <td>X3</td>\n",
       "      <td>2024</td>\n",
       "      <td>Middle East</td>\n",
       "      <td>Blue</td>\n",
       "      <td>Petrol</td>\n",
       "      <td>Automatic</td>\n",
       "      <td>1.7</td>\n",
       "      <td>27255</td>\n",
       "      <td>60971</td>\n",
       "      <td>4047</td>\n",
       "      <td>Low</td>\n",
       "    </tr>\n",
       "    <tr>\n",
       "      <th>4</th>\n",
       "      <td>7 Series</td>\n",
       "      <td>2020</td>\n",
       "      <td>South America</td>\n",
       "      <td>Black</td>\n",
       "      <td>Diesel</td>\n",
       "      <td>Manual</td>\n",
       "      <td>2.1</td>\n",
       "      <td>122131</td>\n",
       "      <td>49898</td>\n",
       "      <td>3080</td>\n",
       "      <td>Low</td>\n",
       "    </tr>\n",
       "    <tr>\n",
       "      <th>...</th>\n",
       "      <td>...</td>\n",
       "      <td>...</td>\n",
       "      <td>...</td>\n",
       "      <td>...</td>\n",
       "      <td>...</td>\n",
       "      <td>...</td>\n",
       "      <td>...</td>\n",
       "      <td>...</td>\n",
       "      <td>...</td>\n",
       "      <td>...</td>\n",
       "      <td>...</td>\n",
       "    </tr>\n",
       "    <tr>\n",
       "      <th>49995</th>\n",
       "      <td>i3</td>\n",
       "      <td>2014</td>\n",
       "      <td>Asia</td>\n",
       "      <td>Red</td>\n",
       "      <td>Hybrid</td>\n",
       "      <td>Manual</td>\n",
       "      <td>4.6</td>\n",
       "      <td>151030</td>\n",
       "      <td>42932</td>\n",
       "      <td>8182</td>\n",
       "      <td>High</td>\n",
       "    </tr>\n",
       "    <tr>\n",
       "      <th>49996</th>\n",
       "      <td>i3</td>\n",
       "      <td>2023</td>\n",
       "      <td>Middle East</td>\n",
       "      <td>Silver</td>\n",
       "      <td>Electric</td>\n",
       "      <td>Manual</td>\n",
       "      <td>4.2</td>\n",
       "      <td>147396</td>\n",
       "      <td>48714</td>\n",
       "      <td>9816</td>\n",
       "      <td>High</td>\n",
       "    </tr>\n",
       "    <tr>\n",
       "      <th>49997</th>\n",
       "      <td>5 Series</td>\n",
       "      <td>2010</td>\n",
       "      <td>Middle East</td>\n",
       "      <td>Red</td>\n",
       "      <td>Petrol</td>\n",
       "      <td>Automatic</td>\n",
       "      <td>4.5</td>\n",
       "      <td>174939</td>\n",
       "      <td>46126</td>\n",
       "      <td>8280</td>\n",
       "      <td>High</td>\n",
       "    </tr>\n",
       "    <tr>\n",
       "      <th>49998</th>\n",
       "      <td>i3</td>\n",
       "      <td>2020</td>\n",
       "      <td>Asia</td>\n",
       "      <td>White</td>\n",
       "      <td>Electric</td>\n",
       "      <td>Automatic</td>\n",
       "      <td>3.8</td>\n",
       "      <td>3379</td>\n",
       "      <td>58566</td>\n",
       "      <td>9486</td>\n",
       "      <td>High</td>\n",
       "    </tr>\n",
       "    <tr>\n",
       "      <th>49999</th>\n",
       "      <td>X1</td>\n",
       "      <td>2020</td>\n",
       "      <td>North America</td>\n",
       "      <td>Blue</td>\n",
       "      <td>Diesel</td>\n",
       "      <td>Manual</td>\n",
       "      <td>3.3</td>\n",
       "      <td>171003</td>\n",
       "      <td>77492</td>\n",
       "      <td>1764</td>\n",
       "      <td>Low</td>\n",
       "    </tr>\n",
       "  </tbody>\n",
       "</table>\n",
       "<p>50000 rows × 11 columns</p>\n",
       "</div>"
      ]
     },
     "execution_count": 2,
     "metadata": {},
     "output_type": "execute_result"
    }
   ],
   "execution_count": 2
  },
  {
   "metadata": {},
   "cell_type": "markdown",
   "source": "## EDA",
   "id": "92fd7ec2a8574b4"
  },
  {
   "metadata": {},
   "cell_type": "markdown",
   "source": "### Rename Columns",
   "id": "382b27cb36ab756a"
  },
  {
   "metadata": {
    "ExecuteTime": {
     "end_time": "2025-08-15T03:24:34.680635Z",
     "start_time": "2025-08-15T03:24:34.653947Z"
    }
   },
   "cell_type": "code",
   "source": [
    "columns_renamed_dict = {}\n",
    "renamed_column = [{column: column.lower()} for column in data.columns]\n",
    "[data.rename(columns=column_dict, inplace=True) for column_dict in renamed_column]\n",
    "data"
   ],
   "id": "521066a6b0c48419",
   "outputs": [
    {
     "data": {
      "text/plain": [
       "          model  year         region   color fuel_type transmission  \\\n",
       "0      5 Series  2016           Asia     Red    Petrol       Manual   \n",
       "1            i8  2013  North America     Red    Hybrid    Automatic   \n",
       "2      5 Series  2022  North America    Blue    Petrol    Automatic   \n",
       "3            X3  2024    Middle East    Blue    Petrol    Automatic   \n",
       "4      7 Series  2020  South America   Black    Diesel       Manual   \n",
       "...         ...   ...            ...     ...       ...          ...   \n",
       "49995        i3  2014           Asia     Red    Hybrid       Manual   \n",
       "49996        i3  2023    Middle East  Silver  Electric       Manual   \n",
       "49997  5 Series  2010    Middle East     Red    Petrol    Automatic   \n",
       "49998        i3  2020           Asia   White  Electric    Automatic   \n",
       "49999        X1  2020  North America    Blue    Diesel       Manual   \n",
       "\n",
       "       engine_size_l  mileage_km  price_usd  sales_volume sales_classification  \n",
       "0                3.5      151748      98740          8300                 High  \n",
       "1                1.6      121671      79219          3428                  Low  \n",
       "2                4.5       10991     113265          6994                  Low  \n",
       "3                1.7       27255      60971          4047                  Low  \n",
       "4                2.1      122131      49898          3080                  Low  \n",
       "...              ...         ...        ...           ...                  ...  \n",
       "49995            4.6      151030      42932          8182                 High  \n",
       "49996            4.2      147396      48714          9816                 High  \n",
       "49997            4.5      174939      46126          8280                 High  \n",
       "49998            3.8        3379      58566          9486                 High  \n",
       "49999            3.3      171003      77492          1764                  Low  \n",
       "\n",
       "[50000 rows x 11 columns]"
      ],
      "text/html": [
       "<div>\n",
       "<style scoped>\n",
       "    .dataframe tbody tr th:only-of-type {\n",
       "        vertical-align: middle;\n",
       "    }\n",
       "\n",
       "    .dataframe tbody tr th {\n",
       "        vertical-align: top;\n",
       "    }\n",
       "\n",
       "    .dataframe thead th {\n",
       "        text-align: right;\n",
       "    }\n",
       "</style>\n",
       "<table border=\"1\" class=\"dataframe\">\n",
       "  <thead>\n",
       "    <tr style=\"text-align: right;\">\n",
       "      <th></th>\n",
       "      <th>model</th>\n",
       "      <th>year</th>\n",
       "      <th>region</th>\n",
       "      <th>color</th>\n",
       "      <th>fuel_type</th>\n",
       "      <th>transmission</th>\n",
       "      <th>engine_size_l</th>\n",
       "      <th>mileage_km</th>\n",
       "      <th>price_usd</th>\n",
       "      <th>sales_volume</th>\n",
       "      <th>sales_classification</th>\n",
       "    </tr>\n",
       "  </thead>\n",
       "  <tbody>\n",
       "    <tr>\n",
       "      <th>0</th>\n",
       "      <td>5 Series</td>\n",
       "      <td>2016</td>\n",
       "      <td>Asia</td>\n",
       "      <td>Red</td>\n",
       "      <td>Petrol</td>\n",
       "      <td>Manual</td>\n",
       "      <td>3.5</td>\n",
       "      <td>151748</td>\n",
       "      <td>98740</td>\n",
       "      <td>8300</td>\n",
       "      <td>High</td>\n",
       "    </tr>\n",
       "    <tr>\n",
       "      <th>1</th>\n",
       "      <td>i8</td>\n",
       "      <td>2013</td>\n",
       "      <td>North America</td>\n",
       "      <td>Red</td>\n",
       "      <td>Hybrid</td>\n",
       "      <td>Automatic</td>\n",
       "      <td>1.6</td>\n",
       "      <td>121671</td>\n",
       "      <td>79219</td>\n",
       "      <td>3428</td>\n",
       "      <td>Low</td>\n",
       "    </tr>\n",
       "    <tr>\n",
       "      <th>2</th>\n",
       "      <td>5 Series</td>\n",
       "      <td>2022</td>\n",
       "      <td>North America</td>\n",
       "      <td>Blue</td>\n",
       "      <td>Petrol</td>\n",
       "      <td>Automatic</td>\n",
       "      <td>4.5</td>\n",
       "      <td>10991</td>\n",
       "      <td>113265</td>\n",
       "      <td>6994</td>\n",
       "      <td>Low</td>\n",
       "    </tr>\n",
       "    <tr>\n",
       "      <th>3</th>\n",
       "      <td>X3</td>\n",
       "      <td>2024</td>\n",
       "      <td>Middle East</td>\n",
       "      <td>Blue</td>\n",
       "      <td>Petrol</td>\n",
       "      <td>Automatic</td>\n",
       "      <td>1.7</td>\n",
       "      <td>27255</td>\n",
       "      <td>60971</td>\n",
       "      <td>4047</td>\n",
       "      <td>Low</td>\n",
       "    </tr>\n",
       "    <tr>\n",
       "      <th>4</th>\n",
       "      <td>7 Series</td>\n",
       "      <td>2020</td>\n",
       "      <td>South America</td>\n",
       "      <td>Black</td>\n",
       "      <td>Diesel</td>\n",
       "      <td>Manual</td>\n",
       "      <td>2.1</td>\n",
       "      <td>122131</td>\n",
       "      <td>49898</td>\n",
       "      <td>3080</td>\n",
       "      <td>Low</td>\n",
       "    </tr>\n",
       "    <tr>\n",
       "      <th>...</th>\n",
       "      <td>...</td>\n",
       "      <td>...</td>\n",
       "      <td>...</td>\n",
       "      <td>...</td>\n",
       "      <td>...</td>\n",
       "      <td>...</td>\n",
       "      <td>...</td>\n",
       "      <td>...</td>\n",
       "      <td>...</td>\n",
       "      <td>...</td>\n",
       "      <td>...</td>\n",
       "    </tr>\n",
       "    <tr>\n",
       "      <th>49995</th>\n",
       "      <td>i3</td>\n",
       "      <td>2014</td>\n",
       "      <td>Asia</td>\n",
       "      <td>Red</td>\n",
       "      <td>Hybrid</td>\n",
       "      <td>Manual</td>\n",
       "      <td>4.6</td>\n",
       "      <td>151030</td>\n",
       "      <td>42932</td>\n",
       "      <td>8182</td>\n",
       "      <td>High</td>\n",
       "    </tr>\n",
       "    <tr>\n",
       "      <th>49996</th>\n",
       "      <td>i3</td>\n",
       "      <td>2023</td>\n",
       "      <td>Middle East</td>\n",
       "      <td>Silver</td>\n",
       "      <td>Electric</td>\n",
       "      <td>Manual</td>\n",
       "      <td>4.2</td>\n",
       "      <td>147396</td>\n",
       "      <td>48714</td>\n",
       "      <td>9816</td>\n",
       "      <td>High</td>\n",
       "    </tr>\n",
       "    <tr>\n",
       "      <th>49997</th>\n",
       "      <td>5 Series</td>\n",
       "      <td>2010</td>\n",
       "      <td>Middle East</td>\n",
       "      <td>Red</td>\n",
       "      <td>Petrol</td>\n",
       "      <td>Automatic</td>\n",
       "      <td>4.5</td>\n",
       "      <td>174939</td>\n",
       "      <td>46126</td>\n",
       "      <td>8280</td>\n",
       "      <td>High</td>\n",
       "    </tr>\n",
       "    <tr>\n",
       "      <th>49998</th>\n",
       "      <td>i3</td>\n",
       "      <td>2020</td>\n",
       "      <td>Asia</td>\n",
       "      <td>White</td>\n",
       "      <td>Electric</td>\n",
       "      <td>Automatic</td>\n",
       "      <td>3.8</td>\n",
       "      <td>3379</td>\n",
       "      <td>58566</td>\n",
       "      <td>9486</td>\n",
       "      <td>High</td>\n",
       "    </tr>\n",
       "    <tr>\n",
       "      <th>49999</th>\n",
       "      <td>X1</td>\n",
       "      <td>2020</td>\n",
       "      <td>North America</td>\n",
       "      <td>Blue</td>\n",
       "      <td>Diesel</td>\n",
       "      <td>Manual</td>\n",
       "      <td>3.3</td>\n",
       "      <td>171003</td>\n",
       "      <td>77492</td>\n",
       "      <td>1764</td>\n",
       "      <td>Low</td>\n",
       "    </tr>\n",
       "  </tbody>\n",
       "</table>\n",
       "<p>50000 rows × 11 columns</p>\n",
       "</div>"
      ]
     },
     "execution_count": 8,
     "metadata": {},
     "output_type": "execute_result"
    }
   ],
   "execution_count": 8
  },
  {
   "metadata": {
    "ExecuteTime": {
     "end_time": "2025-08-15T03:24:48.547731Z",
     "start_time": "2025-08-15T03:24:48.533641Z"
    }
   },
   "cell_type": "code",
   "source": [
    "columns = data.columns\n",
    "columns"
   ],
   "id": "6d8dd740d9ff7afe",
   "outputs": [
    {
     "data": {
      "text/plain": [
       "Index(['model', 'year', 'region', 'color', 'fuel_type', 'transmission',\n",
       "       'engine_size_l', 'mileage_km', 'price_usd', 'sales_volume',\n",
       "       'sales_classification'],\n",
       "      dtype='object')"
      ]
     },
     "execution_count": 9,
     "metadata": {},
     "output_type": "execute_result"
    }
   ],
   "execution_count": 9
  },
  {
   "metadata": {},
   "cell_type": "markdown",
   "source": "### Qualitative Attributes",
   "id": "17590a7c065aae49"
  },
  {
   "metadata": {},
   "cell_type": "code",
   "outputs": [],
   "execution_count": null,
   "source": "columns_qualitative = ['model', 'year', 'region', 'color', 'fuel_type', 'transmission']",
   "id": "79aea855e7b1f928"
  },
  {
   "metadata": {
    "ExecuteTime": {
     "end_time": "2025-08-15T03:53:22.317489Z",
     "start_time": "2025-08-15T03:53:22.303192Z"
    }
   },
   "cell_type": "code",
   "source": [
    "def bar_plot(df):\n",
    "    df.plot(kind='bar')"
   ],
   "id": "c4c999d372d9efdb",
   "outputs": [],
   "execution_count": 19
  },
  {
   "metadata": {},
   "cell_type": "markdown",
   "source": "#### Model",
   "id": "6d5f0152439ffefb"
  },
  {
   "metadata": {
    "ExecuteTime": {
     "end_time": "2025-08-15T03:27:08.596520Z",
     "start_time": "2025-08-15T03:27:08.581968Z"
    }
   },
   "cell_type": "code",
   "source": "data['model'].value_counts()",
   "id": "9a01ad1d1d233d6e",
   "outputs": [
    {
     "data": {
      "text/plain": [
       "model\n",
       "7 Series    4666\n",
       "i3          4618\n",
       "i8          4606\n",
       "3 Series    4595\n",
       "5 Series    4592\n",
       "X1          4570\n",
       "X3          4497\n",
       "X5          4487\n",
       "M5          4478\n",
       "X6          4478\n",
       "M3          4413\n",
       "Name: count, dtype: int64"
      ]
     },
     "execution_count": 10,
     "metadata": {},
     "output_type": "execute_result"
    }
   ],
   "execution_count": 10
  },
  {
   "metadata": {
    "ExecuteTime": {
     "end_time": "2025-08-15T03:27:37.021591Z",
     "start_time": "2025-08-15T03:27:37.008026Z"
    }
   },
   "cell_type": "code",
   "source": "data['model'].value_counts(normalize=True)",
   "id": "f38fff6509d8b357",
   "outputs": [
    {
     "data": {
      "text/plain": [
       "model\n",
       "7 Series    0.09332\n",
       "i3          0.09236\n",
       "i8          0.09212\n",
       "3 Series    0.09190\n",
       "5 Series    0.09184\n",
       "X1          0.09140\n",
       "X3          0.08994\n",
       "X5          0.08974\n",
       "M5          0.08956\n",
       "X6          0.08956\n",
       "M3          0.08826\n",
       "Name: proportion, dtype: float64"
      ]
     },
     "execution_count": 11,
     "metadata": {},
     "output_type": "execute_result"
    }
   ],
   "execution_count": 11
  },
  {
   "metadata": {
    "ExecuteTime": {
     "end_time": "2025-08-15T03:51:04.933382Z",
     "start_time": "2025-08-15T03:51:04.528497Z"
    }
   },
   "cell_type": "code",
   "source": "data['model'].value_counts().plot(kind='bar')",
   "id": "52e9a640bc60ed7b",
   "outputs": [
    {
     "data": {
      "text/plain": [
       "<Axes: xlabel='model'>"
      ]
     },
     "execution_count": 15,
     "metadata": {},
     "output_type": "execute_result"
    },
    {
     "data": {
      "text/plain": [
       "<Figure size 640x480 with 1 Axes>"
      ],
      "image/png": "[encoded data removed]"
     },
     "metadata": {},
     "output_type": "display_data"
    }
   ],
   "execution_count": 15
  },
  {
   "metadata": {},
   "cell_type": "markdown",
   "source": "#### Year",
   "id": "c10c3068e8c0dd83"
  },
  {
   "metadata": {
    "ExecuteTime": {
     "end_time": "2025-08-15T03:53:29.901523Z",
     "start_time": "2025-08-15T03:53:29.890106Z"
    }
   },
   "cell_type": "code",
   "source": [
    "df_dist_year = data['year'].value_counts()\n",
    "df_dist_year"
   ],
   "id": "662654e8297a89a0",
   "outputs": [
    {
     "data": {
      "text/plain": [
       "year\n",
       "2022    3478\n",
       "2024    3427\n",
       "2019    3392\n",
       "2021    3372\n",
       "2016    3365\n",
       "2015    3358\n",
       "2014    3350\n",
       "2012    3332\n",
       "2010    3330\n",
       "2013    3326\n",
       "2017    3290\n",
       "2018    3278\n",
       "2011    3278\n",
       "2023    3219\n",
       "2020    3205\n",
       "Name: count, dtype: int64"
      ]
     },
     "execution_count": 21,
     "metadata": {},
     "output_type": "execute_result"
    }
   ],
   "execution_count": 21
  },
  {
   "metadata": {
    "ExecuteTime": {
     "end_time": "2025-08-15T03:52:51.788973Z",
     "start_time": "2025-08-15T03:52:51.774922Z"
    }
   },
   "cell_type": "code",
   "source": "data['model'].value_counts(normalize=True)",
   "id": "57b3cfd372996010",
   "outputs": [
    {
     "data": {
      "text/plain": [
       "model\n",
       "7 Series    0.09332\n",
       "i3          0.09236\n",
       "i8          0.09212\n",
       "3 Series    0.09190\n",
       "5 Series    0.09184\n",
       "X1          0.09140\n",
       "X3          0.08994\n",
       "X5          0.08974\n",
       "M5          0.08956\n",
       "X6          0.08956\n",
       "M3          0.08826\n",
       "Name: proportion, dtype: float64"
      ]
     },
     "execution_count": 17,
     "metadata": {},
     "output_type": "execute_result"
    }
   ],
   "execution_count": 17
  },
  {
   "metadata": {
    "ExecuteTime": {
     "end_time": "2025-08-15T03:53:31.724658Z",
     "start_time": "2025-08-15T03:53:31.620546Z"
    }
   },
   "cell_type": "code",
   "source": "bar_plot(df_dist_year)",
   "id": "724104f6eef772b0",
   "outputs": [
    {
     "data": {
      "text/plain": [
       "<Figure size 640x480 with 1 Axes>"
      ],
      "image/png": "[encoded data removed]"
     },
     "metadata": {},
     "output_type": "display_data"
    }
   ],
   "execution_count": 22
  },
  {
   "metadata": {},
   "cell_type": "markdown",
   "source": "#### Region",
   "id": "10fb764968ce2d7e"
  },
  {
   "metadata": {
    "ExecuteTime": {
     "end_time": "2025-08-15T03:55:09.935915Z",
     "start_time": "2025-08-15T03:55:09.924396Z"
    }
   },
   "cell_type": "code",
   "source": [
    "df_dist_region = data['region'].value_counts()\n",
    "df_dist_region"
   ],
   "id": "c49f7674313d7193",
   "outputs": [
    {
     "data": {
      "text/plain": [
       "region\n",
       "Asia             8454\n",
       "Middle East      8373\n",
       "North America    8335\n",
       "Europe           8334\n",
       "Africa           8253\n",
       "South America    8251\n",
       "Name: count, dtype: int64"
      ]
     },
     "execution_count": 26,
     "metadata": {},
     "output_type": "execute_result"
    }
   ],
   "execution_count": 26
  },
  {
   "metadata": {
    "ExecuteTime": {
     "end_time": "2025-08-15T03:55:10.172381Z",
     "start_time": "2025-08-15T03:55:10.096153Z"
    }
   },
   "cell_type": "code",
   "source": "bar_plot(df_dist_region)",
   "id": "a7a8385d23e62938",
   "outputs": [
    {
     "data": {
      "text/plain": [
       "<Figure size 640x480 with 1 Axes>"
      ],
      "image/png": "[encoded data removed]"
     },
     "metadata": {},
     "output_type": "display_data"
    }
   ],
   "execution_count": 27
  },
  {
   "metadata": {},
   "cell_type": "markdown",
   "source": "#### Color",
   "id": "35ff7b18fdc6786b"
  },
  {
   "metadata": {
    "ExecuteTime": {
     "end_time": "2025-08-15T03:56:00.430235Z",
     "start_time": "2025-08-15T03:56:00.416486Z"
    }
   },
   "cell_type": "code",
   "source": [
    "df_dist_color = data['color'].value_counts()\n",
    "df_dist_color"
   ],
   "id": "addc1d5e94dbb75b",
   "outputs": [
    {
     "data": {
      "text/plain": [
       "color\n",
       "Red       8463\n",
       "Silver    8350\n",
       "Grey      8348\n",
       "White     8304\n",
       "Black     8273\n",
       "Blue      8262\n",
       "Name: count, dtype: int64"
      ]
     },
     "execution_count": 28,
     "metadata": {},
     "output_type": "execute_result"
    }
   ],
   "execution_count": 28
  },
  {
   "metadata": {
    "ExecuteTime": {
     "end_time": "2025-08-15T03:56:00.539173Z",
     "start_time": "2025-08-15T03:56:00.463225Z"
    }
   },
   "cell_type": "code",
   "source": "bar_plot(df_dist_color)",
   "id": "b8db625f0adc570e",
   "outputs": [
    {
     "data": {
      "text/plain": [
       "<Figure size 640x480 with 1 Axes>"
      ],
      "image/png": "[encoded data removed]"
     },
     "metadata": {},
     "output_type": "display_data"
    }
   ],
   "execution_count": 29
  },
  {
   "metadata": {},
   "cell_type": "markdown",
   "source": "#### Fuel Type",
   "id": "7df9631c3b2657"
  },
  {
   "metadata": {
    "ExecuteTime": {
     "end_time": "2025-08-15T03:56:33.442808Z",
     "start_time": "2025-08-15T03:56:33.428271Z"
    }
   },
   "cell_type": "code",
   "source": [
    "df_dist_fuel_type = data['fuel_type'].value_counts()\n",
    "df_dist_fuel_type"
   ],
   "id": "6edb5bf09577e924",
   "outputs": [
    {
     "data": {
      "text/plain": [
       "fuel_type\n",
       "Hybrid      12716\n",
       "Petrol      12550\n",
       "Electric    12471\n",
       "Diesel      12263\n",
       "Name: count, dtype: int64"
      ]
     },
     "execution_count": 30,
     "metadata": {},
     "output_type": "execute_result"
    }
   ],
   "execution_count": 30
  },
  {
   "metadata": {
    "ExecuteTime": {
     "end_time": "2025-08-15T03:56:33.551166Z",
     "start_time": "2025-08-15T03:56:33.474781Z"
    }
   },
   "cell_type": "code",
   "source": "bar_plot(df_dist_fuel_type)",
   "id": "3d2596e343d7f1b1",
   "outputs": [
    {
     "data": {
      "text/plain": [
       "<Figure size 640x480 with 1 Axes>"
      ],
      "image/png": "[encoded data removed]"
     },
     "metadata": {},
     "output_type": "display_data"
    }
   ],
   "execution_count": 31
  },
  {
   "metadata": {},
   "cell_type": "markdown",
   "source": "#### Transmission",
   "id": "34975799142aed"
  },
  {
   "metadata": {
    "ExecuteTime": {
     "end_time": "2025-08-15T03:56:55.468414Z",
     "start_time": "2025-08-15T03:56:55.454359Z"
    }
   },
   "cell_type": "code",
   "source": [
    "df_dist_transmission = data['transmission'].value_counts()\n",
    "df_dist_transmission"
   ],
   "id": "d76ac0f200f709b2",
   "outputs": [
    {
     "data": {
      "text/plain": [
       "transmission\n",
       "Manual       25154\n",
       "Automatic    24846\n",
       "Name: count, dtype: int64"
      ]
     },
     "execution_count": 32,
     "metadata": {},
     "output_type": "execute_result"
    }
   ],
   "execution_count": 32
  },
  {
   "metadata": {
    "ExecuteTime": {
     "end_time": "2025-08-15T03:56:55.933896Z",
     "start_time": "2025-08-15T03:56:55.873888Z"
    }
   },
   "cell_type": "code",
   "source": "bar_plot(df_dist_transmission)",
   "id": "1ed19d5206b96637",
   "outputs": [
    {
     "data": {
      "text/plain": [
       "<Figure size 640x480 with 1 Axes>"
      ],
      "image/png": "[encoded data removed]"
     },
     "metadata": {},
     "output_type": "display_data"
    }
   ],
   "execution_count": 33
  },
  {
   "metadata": {},
   "cell_type": "markdown",
   "source": [
    "### Qualitative Dist Conclusion\n",
    "All qualitative attributes are well distributed"
   ],
   "id": "3b6eb52af891c10b"
  },
  {
   "metadata": {},
   "cell_type": "markdown",
   "source": "###  Quantitative Attributes",
   "id": "c13984efef5a56ad"
  },
  {
   "metadata": {
    "ExecuteTime": {
     "end_time": "2025-08-15T04:00:07.456432Z",
     "start_time": "2025-08-15T04:00:07.442438Z"
    }
   },
   "cell_type": "code",
   "source": "quantitative_columns = ['engine_size_l', 'mileage_km', 'price_usd', 'sales_volume']",
   "id": "88a0d4d2a31d89a",
   "outputs": [],
   "execution_count": 34
  },
  {
   "metadata": {},
   "cell_type": "markdown",
   "source": "#### Engine Size L",
   "id": "2a818dd720630cd6"
  },
  {
   "metadata": {
    "ExecuteTime": {
     "end_time": "2025-08-15T04:01:17.449565Z",
     "start_time": "2025-08-15T04:01:17.370235Z"
    }
   },
   "cell_type": "code",
   "source": "data['engine_size_l'].plot(kind='hist')",
   "id": "a5934e2c554046ed",
   "outputs": [
    {
     "data": {
      "text/plain": [
       "<Axes: ylabel='Frequency'>"
      ]
     },
     "execution_count": 35,
     "metadata": {},
     "output_type": "execute_result"
    },
    {
     "data": {
      "text/plain": [
       "<Figure size 640x480 with 1 Axes>"
      ],
      "image/png": "[encoded data removed]"
     },
     "metadata": {},
     "output_type": "display_data"
    }
   ],
   "execution_count": 35
  },
  {
   "metadata": {
    "ExecuteTime": {
     "end_time": "2025-08-15T04:03:31.982966Z",
     "start_time": "2025-08-15T04:03:31.844441Z"
    }
   },
   "cell_type": "code",
   "source": "data['engine_size_l'].plot(kind='box')",
   "id": "856192cf52198085",
   "outputs": [
    {
     "data": {
      "text/plain": [
       "<Axes: >"
      ]
     },
     "execution_count": 42,
     "metadata": {},
     "output_type": "execute_result"
    },
    {
     "data": {
      "text/plain": [
       "<Figure size 640x480 with 1 Axes>"
      ],
      "image/png": "[encoded data removed]"
     },
     "metadata": {},
     "output_type": "display_data"
    }
   ],
   "execution_count": 42
  },
  {
   "metadata": {
    "ExecuteTime": {
     "end_time": "2025-08-15T04:01:32.421050Z",
     "start_time": "2025-08-15T04:01:32.398253Z"
    }
   },
   "cell_type": "code",
   "outputs": [
    {
     "data": {
      "text/plain": [
       "count    50000.000000\n",
       "mean         3.247180\n",
       "std          1.009078\n",
       "min          1.500000\n",
       "25%          2.400000\n",
       "50%          3.200000\n",
       "75%          4.100000\n",
       "max          5.000000\n",
       "Name: engine_size_l, dtype: float64"
      ]
     },
     "execution_count": 36,
     "metadata": {},
     "output_type": "execute_result"
    }
   ],
   "execution_count": 36,
   "source": "data['engine_size_l'].describe()",
   "id": "bde2726d7667cf00"
  },
  {
   "metadata": {},
   "cell_type": "markdown",
   "source": " #### Mileage KM",
   "id": "6b9790fbcb84cae7"
  },
  {
   "metadata": {
    "ExecuteTime": {
     "end_time": "2025-08-15T04:02:13.583778Z",
     "start_time": "2025-08-15T04:02:13.507018Z"
    }
   },
   "cell_type": "code",
   "source": "data['mileage_km'].plot(kind='hist')",
   "id": "aa85f120693f81c9",
   "outputs": [
    {
     "data": {
      "text/plain": [
       "<Axes: ylabel='Frequency'>"
      ]
     },
     "execution_count": 37,
     "metadata": {},
     "output_type": "execute_result"
    },
    {
     "data": {
      "text/plain": [
       "<Figure size 640x480 with 1 Axes>"
      ],
      "image/png": "[encoded data removed]"
     },
     "metadata": {},
     "output_type": "display_data"
    }
   ],
   "execution_count": 37
  },
  {
   "metadata": {
    "ExecuteTime": {
     "end_time": "2025-08-15T04:03:19.679532Z",
     "start_time": "2025-08-15T04:03:19.605349Z"
    }
   },
   "cell_type": "code",
   "source": "data['mileage_km'].plot(kind='box')",
   "id": "b1ad6be336405848",
   "outputs": [
    {
     "data": {
      "text/plain": [
       "<Axes: >"
      ]
     },
     "execution_count": 41,
     "metadata": {},
     "output_type": "execute_result"
    },
    {
     "data": {
      "text/plain": [
       "<Figure size 640x480 with 1 Axes>"
      ],
      "image/png": "[encoded data removed]"
     },
     "metadata": {},
     "output_type": "display_data"
    }
   ],
   "execution_count": 41
  },
  {
   "metadata": {
    "ExecuteTime": {
     "end_time": "2025-08-15T04:04:09.281151Z",
     "start_time": "2025-08-15T04:04:09.267907Z"
    }
   },
   "cell_type": "code",
   "source": "data['mileage_km'].describe()",
   "id": "ff90ed2bd8e7be1e",
   "outputs": [
    {
     "data": {
      "text/plain": [
       "count     50000.000000\n",
       "mean     100307.203140\n",
       "std       57941.509344\n",
       "min           3.000000\n",
       "25%       50178.000000\n",
       "50%      100388.500000\n",
       "75%      150630.250000\n",
       "max      199996.000000\n",
       "Name: mileage_km, dtype: float64"
      ]
     },
     "execution_count": 43,
     "metadata": {},
     "output_type": "execute_result"
    }
   ],
   "execution_count": 43
  },
  {
   "metadata": {},
   "cell_type": "markdown",
   "source": "#### Price USD",
   "id": "aafbb6f07cdf5494"
  },
  {
   "metadata": {
    "ExecuteTime": {
     "end_time": "2025-08-15T04:04:56.580481Z",
     "start_time": "2025-08-15T04:04:56.504041Z"
    }
   },
   "cell_type": "code",
   "source": "data['price_usd'].plot(kind='hist')",
   "id": "138285bb964e78b4",
   "outputs": [
    {
     "data": {
      "text/plain": [
       "<Axes: ylabel='Frequency'>"
      ]
     },
     "execution_count": 44,
     "metadata": {},
     "output_type": "execute_result"
    },
    {
     "data": {
      "text/plain": [
       "<Figure size 640x480 with 1 Axes>"
      ],
      "image/png": "[encoded data removed]"
     },
     "metadata": {},
     "output_type": "display_data"
    }
   ],
   "execution_count": 44
  },
  {
   "metadata": {
    "ExecuteTime": {
     "end_time": "2025-08-15T04:04:56.674110Z",
     "start_time": "2025-08-15T04:04:56.600113Z"
    }
   },
   "cell_type": "code",
   "source": "data['price_usd'].plot(kind='box')",
   "id": "c56d1dd28f13ff50",
   "outputs": [
    {
     "data": {
      "text/plain": [
       "<Axes: >"
      ]
     },
     "execution_count": 45,
     "metadata": {},
     "output_type": "execute_result"
    },
    {
     "data": {
      "text/plain": [
       "<Figure size 640x480 with 1 Axes>"
      ],
      "image/png": "[encoded data removed]"
     },
     "metadata": {},
     "output_type": "display_data"
    }
   ],
   "execution_count": 45
  },
  {
   "metadata": {
    "ExecuteTime": {
     "end_time": "2025-08-15T04:04:56.750493Z",
     "start_time": "2025-08-15T04:04:56.726846Z"
    }
   },
   "cell_type": "code",
   "source": "data['price_usd'].describe()",
   "id": "9a661b869d227463",
   "outputs": [
    {
     "data": {
      "text/plain": [
       "count     50000.000000\n",
       "mean      75034.600900\n",
       "std       25998.248882\n",
       "min       30000.000000\n",
       "25%       52434.750000\n",
       "50%       75011.500000\n",
       "75%       97628.250000\n",
       "max      119998.000000\n",
       "Name: price_usd, dtype: float64"
      ]
     },
     "execution_count": 46,
     "metadata": {},
     "output_type": "execute_result"
    }
   ],
   "execution_count": 46
  },
  {
   "metadata": {},
   "cell_type": "markdown",
   "source": "#### Sales Volume",
   "id": "e7600c4b01525f54"
  },
  {
   "metadata": {
    "ExecuteTime": {
     "end_time": "2025-08-15T04:05:42.790420Z",
     "start_time": "2025-08-15T04:05:42.714299Z"
    }
   },
   "cell_type": "code",
   "source": "data['sales_volume'].plot(kind='hist')",
   "id": "fb173a07d541cc72",
   "outputs": [
    {
     "data": {
      "text/plain": [
       "<Axes: ylabel='Frequency'>"
      ]
     },
     "execution_count": 47,
     "metadata": {},
     "output_type": "execute_result"
    },
    {
     "data": {
      "text/plain": [
       "<Figure size 640x480 with 1 Axes>"
      ],
      "image/png": "[encoded data removed]"
     },
     "metadata": {},
     "output_type": "display_data"
    }
   ],
   "execution_count": 47
  },
  {
   "metadata": {
    "ExecuteTime": {
     "end_time": "2025-08-15T04:05:42.868052Z",
     "start_time": "2025-08-15T04:05:42.811078Z"
    }
   },
   "cell_type": "code",
   "source": "data['sales_volume'].plot(kind='box')",
   "id": "45a1a2da7d856028",
   "outputs": [
    {
     "data": {
      "text/plain": [
       "<Axes: >"
      ]
     },
     "execution_count": 48,
     "metadata": {},
     "output_type": "execute_result"
    },
    {
     "data": {
      "text/plain": [
       "<Figure size 640x480 with 1 Axes>"
      ],
      "image/png": "[encoded data removed]"
     },
     "metadata": {},
     "output_type": "display_data"
    }
   ],
   "execution_count": 48
  },
  {
   "metadata": {
    "ExecuteTime": {
     "end_time": "2025-08-15T04:05:42.931604Z",
     "start_time": "2025-08-15T04:05:42.920357Z"
    }
   },
   "cell_type": "code",
   "source": "data['sales_volume'].describe()",
   "id": "c52e14f893b6414c",
   "outputs": [
    {
     "data": {
      "text/plain": [
       "count    50000.000000\n",
       "mean      5067.514680\n",
       "std       2856.767125\n",
       "min        100.000000\n",
       "25%       2588.000000\n",
       "50%       5087.000000\n",
       "75%       7537.250000\n",
       "max       9999.000000\n",
       "Name: sales_volume, dtype: float64"
      ]
     },
     "execution_count": 49,
     "metadata": {},
     "output_type": "execute_result"
    }
   ],
   "execution_count": 49
  },
  {
   "metadata": {},
   "cell_type": "markdown",
   "source": [
    "### Quantitative Dist Conclusion\n",
    "All qualitative attributes are well distributed"
   ],
   "id": "770ca7486d14767d"
  },
  {
   "metadata": {},
   "cell_type": "markdown",
   "source": "### Target Column Analysis",
   "id": "9e0d54782be6172e"
  },
  {
   "metadata": {
    "ExecuteTime": {
     "end_time": "2025-08-15T04:11:15.183281Z",
     "start_time": "2025-08-15T04:11:15.173238Z"
    }
   },
   "cell_type": "code",
   "source": [
    "target_dist = data['sales_classification'].value_counts()\n",
    "target_dist"
   ],
   "id": "33ab3613808a38e5",
   "outputs": [
    {
     "data": {
      "text/plain": [
       "sales_classification\n",
       "Low     34754\n",
       "High    15246\n",
       "Name: count, dtype: int64"
      ]
     },
     "execution_count": 54,
     "metadata": {},
     "output_type": "execute_result"
    }
   ],
   "execution_count": 54
  },
  {
   "metadata": {
    "ExecuteTime": {
     "end_time": "2025-08-15T04:11:17.811870Z",
     "start_time": "2025-08-15T04:11:17.750593Z"
    }
   },
   "cell_type": "code",
   "source": "bar_plot(target_dist)",
   "id": "8593690824425aa7",
   "outputs": [
    {
     "data": {
      "text/plain": [
       "<Figure size 640x480 with 1 Axes>"
      ],
      "image/png": "[encoded data removed]"
     },
     "metadata": {},
     "output_type": "display_data"
    }
   ],
   "execution_count": 55
  },
  {
   "metadata": {
    "ExecuteTime": {
     "end_time": "2025-08-15T04:11:39.437063Z",
     "start_time": "2025-08-15T04:11:39.423516Z"
    }
   },
   "cell_type": "code",
   "source": "data['sales_classification'].value_counts(normalize=True)",
   "id": "8c76c4ef54bdee6b",
   "outputs": [
    {
     "data": {
      "text/plain": [
       "sales_classification\n",
       "Low     0.69508\n",
       "High    0.30492\n",
       "Name: proportion, dtype: float64"
      ]
     },
     "execution_count": 57,
     "metadata": {},
     "output_type": "execute_result"
    }
   ],
   "execution_count": 57
  },
  {
   "metadata": {},
   "cell_type": "markdown",
   "source": "#### Model x Sales Classification",
   "id": "1f3d0ff8f2244700"
  },
  {
   "metadata": {
    "ExecuteTime": {
     "end_time": "2025-08-15T04:18:44.946192Z",
     "start_time": "2025-08-15T04:18:44.931879Z"
    }
   },
   "cell_type": "code",
   "source": [
    "model_target_cross_tab = pd.crosstab(data['model'], data['sales_classification'])\n",
    "model_target_cross_tab.sort_values(by=['High'], ascending=False, inplace=True)\n",
    "model_target_cross_tab"
   ],
   "id": "754d99a008286ba6",
   "outputs": [
    {
     "data": {
      "text/plain": [
       "sales_classification  High   Low\n",
       "model                           \n",
       "7 Series              1437  3229\n",
       "i8                    1423  3183\n",
       "3 Series              1406  3189\n",
       "5 Series              1397  3195\n",
       "X1                    1390  3180\n",
       "X5                    1378  3109\n",
       "X3                    1378  3119\n",
       "i3                    1363  3255\n",
       "M3                    1363  3050\n",
       "X6                    1356  3122\n",
       "M5                    1355  3123"
      ],
      "text/html": [
       "<div>\n",
       "<style scoped>\n",
       "    .dataframe tbody tr th:only-of-type {\n",
       "        vertical-align: middle;\n",
       "    }\n",
       "\n",
       "    .dataframe tbody tr th {\n",
       "        vertical-align: top;\n",
       "    }\n",
       "\n",
       "    .dataframe thead th {\n",
       "        text-align: right;\n",
       "    }\n",
       "</style>\n",
       "<table border=\"1\" class=\"dataframe\">\n",
       "  <thead>\n",
       "    <tr style=\"text-align: right;\">\n",
       "      <th>sales_classification</th>\n",
       "      <th>High</th>\n",
       "      <th>Low</th>\n",
       "    </tr>\n",
       "    <tr>\n",
       "      <th>model</th>\n",
       "      <th></th>\n",
       "      <th></th>\n",
       "    </tr>\n",
       "  </thead>\n",
       "  <tbody>\n",
       "    <tr>\n",
       "      <th>7 Series</th>\n",
       "      <td>1437</td>\n",
       "      <td>3229</td>\n",
       "    </tr>\n",
       "    <tr>\n",
       "      <th>i8</th>\n",
       "      <td>1423</td>\n",
       "      <td>3183</td>\n",
       "    </tr>\n",
       "    <tr>\n",
       "      <th>3 Series</th>\n",
       "      <td>1406</td>\n",
       "      <td>3189</td>\n",
       "    </tr>\n",
       "    <tr>\n",
       "      <th>5 Series</th>\n",
       "      <td>1397</td>\n",
       "      <td>3195</td>\n",
       "    </tr>\n",
       "    <tr>\n",
       "      <th>X1</th>\n",
       "      <td>1390</td>\n",
       "      <td>3180</td>\n",
       "    </tr>\n",
       "    <tr>\n",
       "      <th>X5</th>\n",
       "      <td>1378</td>\n",
       "      <td>3109</td>\n",
       "    </tr>\n",
       "    <tr>\n",
       "      <th>X3</th>\n",
       "      <td>1378</td>\n",
       "      <td>3119</td>\n",
       "    </tr>\n",
       "    <tr>\n",
       "      <th>i3</th>\n",
       "      <td>1363</td>\n",
       "      <td>3255</td>\n",
       "    </tr>\n",
       "    <tr>\n",
       "      <th>M3</th>\n",
       "      <td>1363</td>\n",
       "      <td>3050</td>\n",
       "    </tr>\n",
       "    <tr>\n",
       "      <th>X6</th>\n",
       "      <td>1356</td>\n",
       "      <td>3122</td>\n",
       "    </tr>\n",
       "    <tr>\n",
       "      <th>M5</th>\n",
       "      <td>1355</td>\n",
       "      <td>3123</td>\n",
       "    </tr>\n",
       "  </tbody>\n",
       "</table>\n",
       "</div>"
      ]
     },
     "execution_count": 61,
     "metadata": {},
     "output_type": "execute_result"
    }
   ],
   "execution_count": 61
  },
  {
   "metadata": {
    "ExecuteTime": {
     "end_time": "2025-08-15T04:22:50.342060Z",
     "start_time": "2025-08-15T04:22:50.328561Z"
    }
   },
   "cell_type": "code",
   "source": "model_target_cross_tab['High'].idxmin()",
   "id": "dc15ff76a2555190",
   "outputs": [
    {
     "data": {
      "text/plain": [
       "'M5'"
      ]
     },
     "execution_count": 64,
     "metadata": {},
     "output_type": "execute_result"
    }
   ],
   "execution_count": 64
  },
  {
   "metadata": {},
   "cell_type": "markdown",
   "source": [
    "- 7 series is the model with the highest sales\n",
    "- M5 is the model with the lowest high sales"
   ],
   "id": "31c54cda3536ea8d"
  },
  {
   "metadata": {},
   "cell_type": "markdown",
   "source": "#### Year X Sales Classification",
   "id": "227f40f6c05bc2a9"
  },
  {
   "metadata": {},
   "cell_type": "markdown",
   "source": [
    "### Target Columns Conclusion\n",
    "- Approx. 70% of data is low\n",
    "- Stratify by target is very required"
   ],
   "id": "c3ddd457ccb386a4"
  },
  {
   "metadata": {},
   "cell_type": "code",
   "outputs": [],
   "execution_count": null,
   "source": "",
   "id": "25823d4b474d9d86"
  }
 ],
 "metadata": {
  "kernelspec": {
   "display_name": "Python 3",
   "language": "python",
   "name": "python3"
  },
  "language_info": {
   "codemirror_mode": {
    "name": "ipython",
    "version": 2
   },
   "file_extension": ".py",
   "mimetype": "text/x-python",
   "name": "python",
   "nbconvert_exporter": "python",
   "pygments_lexer": "ipython2",
   "version": "2.7.6"
  }
 },
 "nbformat": 4,
 "nbformat_minor": 5
}
